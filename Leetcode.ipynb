{
  "nbformat": 4,
  "nbformat_minor": 0,
  "metadata": {
    "colab": {
      "provenance": [],
      "authorship_tag": "ABX9TyPRi100noPCW3jX1zt+/kAf",
      "include_colab_link": true
    },
    "kernelspec": {
      "name": "python3",
      "display_name": "Python 3"
    },
    "language_info": {
      "name": "python"
    }
  },
  "cells": [
    {
      "cell_type": "markdown",
      "metadata": {
        "id": "view-in-github",
        "colab_type": "text"
      },
      "source": [
        "<a href=\"https://colab.research.google.com/github/SadbinShakil/LeetCode_/blob/main/Leetcode.ipynb\" target=\"_parent\"><img src=\"https://colab.research.google.com/assets/colab-badge.svg\" alt=\"Open In Colab\"/></a>"
      ]
    },
    {
      "cell_type": "markdown",
      "source": [
        "# **283. Move Zeroes**"
      ],
      "metadata": {
        "id": "YM6zBUc61dzt"
      }
    },
    {
      "cell_type": "code",
      "source": [
        "#Hard coded\n",
        "class Solution(object):\n",
        "    def moveZeroes(self, nums):\n",
        "      position = 0\n",
        "      for i in range(len(nums)):\n",
        "        if nums[i] == 0:\n",
        "          position +=1\n",
        "        elif nums[i] != 0 and position>0:\n",
        "          nums[i-position] = nums[i]\n",
        "          nums[i] = 0\n",
        "\n",
        "\n",
        "      return nums\n",
        "\n",
        "nums = [0,0,1,0,0,0,0,0,3,0,0,12,0,0,15]\n",
        "solution = Solution()\n",
        "solution.moveZeroes(nums)\n"
      ],
      "metadata": {
        "colab": {
          "base_uri": "https://localhost:8080/"
        },
        "id": "mMfClkyU6ltE",
        "outputId": "2eafefdb-89e6-4a18-a51f-e0cd4dbdc90e"
      },
      "execution_count": 49,
      "outputs": [
        {
          "output_type": "execute_result",
          "data": {
            "text/plain": [
              "[1, 3, 12, 15, 0, 0, 0, 0, 0, 0, 0, 0, 0, 0, 0]"
            ]
          },
          "metadata": {},
          "execution_count": 49
        }
      ]
    },
    {
      "cell_type": "code",
      "source": [
        "#Hard coded\n",
        "class Solution(object):\n",
        "    def moveZeroes(self, nums):\n",
        "      move = 0\n",
        "      move2 = 0\n",
        "      for i in range(len(nums)):\n",
        "        if nums[i] == 0 and (i+1)<len(nums):\n",
        "          if nums[i-1] != 0:\n",
        "            move = nums[i]\n",
        "            nums[i] = nums[i+1]\n",
        "            nums[i+1] = move\n",
        "          elif nums[i-1] == 0 and nums[i+1] != 0:\n",
        "            move = nums[i-1]\n",
        "            nums[i-1] = nums[i+1]\n",
        "            nums[i+1] = move\n",
        "\n",
        "      return nums\n",
        "\n",
        "\n",
        "nums = [0,1,0,3,12]\n",
        "solution = Solution()\n",
        "solution.moveZeroes(nums)"
      ],
      "metadata": {
        "colab": {
          "base_uri": "https://localhost:8080/"
        },
        "id": "nGWtXvIr1dhf",
        "outputId": "6239ea4a-ce93-4bc4-b142-ce6e2e7bc682"
      },
      "execution_count": 9,
      "outputs": [
        {
          "output_type": "execute_result",
          "data": {
            "text/plain": [
              "[1, 3, 12, 0, 0]"
            ]
          },
          "metadata": {},
          "execution_count": 9
        }
      ]
    },
    {
      "cell_type": "markdown",
      "source": [
        "# **443. String Compression**"
      ],
      "metadata": {
        "id": "B3id3FldS0Mu"
      }
    },
    {
      "cell_type": "code",
      "source": [
        "import json\n",
        "class Solution(object):\n",
        "  def compress(self, chars):\n",
        "    output = []\n",
        "    p1 = None\n",
        "    p2 = 0\n",
        "    for char in chars:\n",
        "      if p1 is None:\n",
        "        p1 = char\n",
        "        p2+=1\n",
        "      elif char == p1:\n",
        "        p2+=1\n",
        "      elif char != p1:\n",
        "        output.append(str(p1))\n",
        "        output.append(str(p2))\n",
        "        p1 = char\n",
        "        p2 = 1\n",
        "    output.append(str(p1))\n",
        "    output.append(str(p2))\n",
        "    return json.dumps(output)\n",
        "\n",
        "\n",
        "chars = [\"a\",\"a\",\"b\",\"b\",\"c\",\"c\",\"c\"]\n",
        "solution = Solution()\n",
        "solution.compress(chars)"
      ],
      "metadata": {
        "colab": {
          "base_uri": "https://localhost:8080/",
          "height": 36
        },
        "id": "pGs5ChaCSz2j",
        "outputId": "acf9b097-6b12-47ac-bc92-31e5c6181b1e"
      },
      "execution_count": null,
      "outputs": [
        {
          "output_type": "execute_result",
          "data": {
            "text/plain": [
              "'[\"a\", \"2\", \"b\", \"2\", \"c\", \"3\"]'"
            ],
            "application/vnd.google.colaboratory.intrinsic+json": {
              "type": "string"
            }
          },
          "metadata": {},
          "execution_count": 18
        }
      ]
    },
    {
      "cell_type": "code",
      "source": [
        "import json\n",
        "class Solution(object):\n",
        "  def compress(self, chars):\n",
        "    p1 = None\n",
        "    p2 = 0\n",
        "    write = 0\n",
        "    for char in chars:\n",
        "      if p1 is None:\n",
        "        p1 = char\n",
        "        p2+=1\n",
        "      elif char == p1:\n",
        "        p2+=1\n",
        "        # print(char)\n",
        "        # print(p2)\n",
        "      elif char != p1:\n",
        "        chars[write] = str(p1)\n",
        "        write+=1\n",
        "        if p2>1:\n",
        "          for digit in str(p2):\n",
        "            chars[write] = str(digit)\n",
        "            write+=1\n",
        "        p1 = char\n",
        "        p2 = 1\n",
        "    chars[write] = str(p1)\n",
        "    write+=1\n",
        "    if p2>1:\n",
        "      for digit in str(p2):\n",
        "        chars[write] = str(digit)\n",
        "        write+=1\n",
        "    return write\n",
        "\n",
        "\n",
        "chars = [\"a\",\"a\",\"b\",\"b\",\"c\",\"c\",\"c\",\"d\",\"d\",\"e\",\"e\",\"e\",\"e\",\"e\",\"e\",\"e\",\"e\",\"e\",\"e\"]\n",
        "solution = Solution()\n",
        "length = solution.compress(chars)\n",
        "print(chars[:length])"
      ],
      "metadata": {
        "colab": {
          "base_uri": "https://localhost:8080/"
        },
        "id": "r7R5OZN1SzuD",
        "outputId": "c76b148b-a203-413b-a98a-91a1d696e511"
      },
      "execution_count": null,
      "outputs": [
        {
          "output_type": "stream",
          "name": "stdout",
          "text": [
            "['a', '2', 'b', '2', 'c', '3', 'd', '2', 'e', '1', '0']\n"
          ]
        }
      ]
    },
    {
      "cell_type": "code",
      "source": [
        "<style>\n",
        "/* Research Section */\n",
        "#research {\n",
        "    padding: 80px 0;\n",
        "    background-color: #34495E; /* Dark background for contrast */\n",
        "    border-radius: 10px;\n",
        "    box-shadow: 0 4px 15px rgba(0, 0, 0, 0.1);\n",
        "}\n",
        "\n",
        ".section-title {\n",
        "    font-size: 2.5rem;\n",
        "    color: #F4D03F; /* Gold for contrast */\n",
        "    text-align: center;\n",
        "    margin-bottom: 40px;\n",
        "    text-transform: uppercase;\n",
        "    font-family: 'Merriweather', serif;\n",
        "}\n",
        "\n",
        ".section-intro {\n",
        "    font-size: 1.2rem;\n",
        "    text-align: center;\n",
        "    margin-bottom: 60px;\n",
        "    color: #ECECEC; /* Light gray for legibility */\n",
        "    max-width: 800px;\n",
        "    margin-left: auto;\n",
        "    margin-right: auto;\n",
        "}\n",
        "\n",
        ".research-areas {\n",
        "    display: grid;\n",
        "    grid-template-columns: repeat(2, 1fr); /* Grid format */\n",
        "    gap: 30px;\n",
        "}\n",
        "\n",
        ".research-area {\n",
        "    background-color: #2C3E50; /* Darker section background */\n",
        "    padding: 20px;\n",
        "    border-radius: 8px;\n",
        "    box-shadow: 0 2px 8px rgba(0, 0, 0, 0.1);\n",
        "    transition: box-shadow 0.3s ease;\n",
        "}\n",
        "\n",
        ".research-area:hover {\n",
        "    box-shadow: 0 4px 15px rgba(0, 0, 0, 0.2);\n",
        "}\n",
        "\n",
        ".research-area h3 {\n",
        "    font-size: 1.8rem;\n",
        "    color: #F39C12; /* Bright gold accent color */\n",
        "    margin-bottom: 15px;\n",
        "    font-family: 'Merriweather', serif;\n",
        "}\n",
        "\n",
        ".research-area p {\n",
        "    font-size: 1.1rem;\n",
        "    color: #ECECEC; /* Light text for readability */\n",
        "    line-height: 1.7;\n",
        "}\n",
        "\n",
        "\n",
        "</style>\n"
      ],
      "metadata": {
        "id": "crtDKKaN0B1x"
      },
      "execution_count": null,
      "outputs": []
    },
    {
      "cell_type": "markdown",
      "source": [
        "# **334. Increasing Triplet Subsequence**"
      ],
      "metadata": {
        "id": "pFZR6RnYpSW6"
      }
    },
    {
      "cell_type": "code",
      "source": [
        "#If consecutive\n",
        "\n",
        "class Solution(object):\n",
        "    def increasingTriplet(self, nums):\n",
        "      final_result = []\n",
        "      a = self.firstWindow(nums)\n",
        "      b = self.slideWindow(nums)\n",
        "\n",
        "      final_result.append(a)\n",
        "      final_result.append(b)\n",
        "\n",
        "      final_result = sum(final_result, [])\n",
        "\n",
        "      print(final_result)\n",
        "\n",
        "      if True in final_result:\n",
        "        return True\n",
        "      else:\n",
        "        return False\n",
        "\n",
        "\n",
        "    def firstWindow(self, nums):\n",
        "      #create first window\n",
        "      k = 3\n",
        "      count = 0\n",
        "      result = []\n",
        "      for i in range (k-1):\n",
        "        if (nums[i] < nums[i+1]):\n",
        "          count += 1\n",
        "        else:\n",
        "          count = 0\n",
        "      if count >= 2:\n",
        "        result.append(True)\n",
        "      else:\n",
        "        result.append(False)\n",
        "      return result\n",
        "\n",
        "    def slideWindow(self, nums):\n",
        "      k = 3\n",
        "      count = 0\n",
        "      result = []\n",
        "      for i in range(k, len(nums)):\n",
        "        if (nums[i] > nums[i-1]):\n",
        "          count += 1\n",
        "        else:\n",
        "          count = 0\n",
        "      if count >= 2:\n",
        "        result.append(True)\n",
        "      else:\n",
        "        result.append(False)\n",
        "      return result\n",
        "\n",
        "\n",
        "\n",
        "nums = [2,1,5,0,4,6]\n",
        "solution = Solution()\n",
        "solution.increasingTriplet(nums)"
      ],
      "metadata": {
        "colab": {
          "base_uri": "https://localhost:8080/"
        },
        "id": "Hc6pses5pR9K",
        "outputId": "86458eac-b2e7-49e4-daed-1ac6060784b4"
      },
      "execution_count": null,
      "outputs": [
        {
          "output_type": "stream",
          "name": "stdout",
          "text": [
            "[False, True]\n"
          ]
        },
        {
          "output_type": "execute_result",
          "data": {
            "text/plain": [
              "True"
            ]
          },
          "metadata": {},
          "execution_count": 8
        }
      ]
    },
    {
      "cell_type": "code",
      "source": [
        "#If not consecutive\n",
        "class Solution(object):\n",
        "    def increasingTriplet(self, nums):\n",
        "      n1 = float('inf')\n",
        "      n2 = float('inf')\n",
        "      if len(nums) < 3:\n",
        "        return False\n",
        "\n",
        "      if len(nums) == 3:\n",
        "        if nums[0] < nums[1] and nums[1] < nums[2]:\n",
        "          return True\n",
        "        else:\n",
        "          return False\n",
        "\n",
        "      for i in range(len(nums)):\n",
        "        if n1 != float('inf') and n2 != float('inf'):\n",
        "          if nums[i]>n2:\n",
        "            return True\n",
        "        if nums[i]<=n1:\n",
        "          n1 = nums[i]\n",
        "        else:\n",
        "          n2 = nums[i]\n",
        "      return False\n",
        "\n",
        "\n",
        "nums = [12,0,3]\n",
        "solution = Solution()\n",
        "solution.increasingTriplet(nums)\n"
      ],
      "metadata": {
        "colab": {
          "base_uri": "https://localhost:8080/"
        },
        "id": "16N_G8146edF",
        "outputId": "3b6804bc-fc83-45cd-d989-5e55e94d9d6e"
      },
      "execution_count": null,
      "outputs": [
        {
          "output_type": "execute_result",
          "data": {
            "text/plain": [
              "False"
            ]
          },
          "metadata": {},
          "execution_count": 7
        }
      ]
    },
    {
      "cell_type": "code",
      "source": [
        "if 3>float('inf'):\n",
        "  print(\"yes\")\n",
        "else:\n",
        "  print(\"no\")\n"
      ],
      "metadata": {
        "colab": {
          "base_uri": "https://localhost:8080/"
        },
        "id": "VVykmyS4hM00",
        "outputId": "36617c9f-6fbd-4aa3-a2de-5e819e9e13c5"
      },
      "execution_count": null,
      "outputs": [
        {
          "output_type": "stream",
          "name": "stdout",
          "text": [
            "no\n"
          ]
        }
      ]
    },
    {
      "cell_type": "code",
      "source": [
        "def has_increasing_sequence(pairs):\n",
        "    count = 0\n",
        "    for i in range(len(pairs) - 1):\n",
        "        # Compare the current pair with the next pair\n",
        "        current = pairs[i]\n",
        "        next_pair = pairs[i + 1]\n",
        "\n",
        "        # Skip if the current and next pairs are the same\n",
        "        if current == next_pair:\n",
        "            continue\n",
        "\n",
        "        # Strictly check for an increasing sequence\n",
        "        if current[0] <= next_pair[0] and current[1] < next_pair[1]:\n",
        "            print(f\"Increasing sequence found: {current} -> {next_pair}\")\n",
        "            count += 1  # Found an increasing sequence\n",
        "    return count\n",
        "\n",
        "pairs = [[1, 2], [1, 2], [1, 2], [1, 2], [0, 2], [0, 2], [0, 2], [0, 2], [0, 1], [0, 2], [0, 2], [0, 2], [0, 1], [0, 2], [0, 2], [0, 1], [0, 2], [0, 1], [0, 1]]\n",
        "x = has_increasing_sequence(pairs)\n",
        "print(x)"
      ],
      "metadata": {
        "colab": {
          "base_uri": "https://localhost:8080/"
        },
        "id": "7bVUhyuzv3d6",
        "outputId": "b43b1fcb-f51c-4a4b-c68a-2db0a00b1c49"
      },
      "execution_count": null,
      "outputs": [
        {
          "output_type": "stream",
          "name": "stdout",
          "text": [
            "Increasing sequence found: [0, 1] -> [0, 2]\n",
            "Increasing sequence found: [0, 1] -> [0, 2]\n",
            "Increasing sequence found: [0, 1] -> [0, 2]\n",
            "3\n"
          ]
        }
      ]
    },
    {
      "cell_type": "markdown",
      "source": [
        "# **238. Product of Array Except Self**"
      ],
      "metadata": {
        "id": "5Orr4tPYb9XF"
      }
    },
    {
      "cell_type": "code",
      "source": [
        "class Solution(object):\n",
        "    def productExceptSelf(self, nums):\n",
        "      temp = []\n",
        "      x = 1\n",
        "      for item in nums:\n",
        "        for i in range(len(nums)):\n",
        "          if i != nums.index(item):\n",
        "            x = x * nums[i]\n",
        "        temp.append(x)\n",
        "        x = 1\n",
        "      return temp\n",
        "\n",
        "nums = [-1,1,0,-3,3]\n",
        "solution = Solution()\n",
        "solution.productExceptSelf(nums)\n",
        "\n",
        "\n"
      ],
      "metadata": {
        "colab": {
          "base_uri": "https://localhost:8080/"
        },
        "id": "agdxvRhCb9Ac",
        "outputId": "2a4b9b7c-be41-42ae-dbb7-4771860a1b20"
      },
      "execution_count": null,
      "outputs": [
        {
          "output_type": "execute_result",
          "data": {
            "text/plain": [
              "[0, 0, 9, 0, 0]"
            ]
          },
          "metadata": {},
          "execution_count": 8
        }
      ]
    },
    {
      "cell_type": "code",
      "source": [
        "class Solution(object):\n",
        "\n",
        "  def suff(self, nums):\n",
        "      temp = []\n",
        "      x = 1\n",
        "      for i in range(len(nums)-1, -1, -1):  # Iterate backward\n",
        "          temp.append(x)  # Append the current suffix product\n",
        "          x = x * nums[i]  # Update suffix product for the next iteration\n",
        "      temp.reverse()  # Reverse the list to match the correct order\n",
        "      return temp\n",
        "\n",
        "\n",
        "  def priff(self, nums):\n",
        "    temp1 = []\n",
        "    x = 1\n",
        "    for i in range(len(nums)):\n",
        "        temp1.append(x)\n",
        "        x = x * nums[i]\n",
        "    return temp1\n",
        "\n",
        "  def productExceptSelf(self, nums):\n",
        "    q = self.suff(nums)\n",
        "    r = self.priff(nums)\n",
        "    result = []\n",
        "    for a, b in zip(q, r):  # Iterate through both lists simultaneously\n",
        "      result.append(a * b)      # Multiply corresponding elements\n",
        "    return result\n",
        "\n",
        "nums = [1,2,3,4]\n",
        "solution = Solution()\n",
        "solution.productExceptSelf(nums)\n",
        "\n",
        "\n",
        "\n",
        "\n"
      ],
      "metadata": {
        "colab": {
          "base_uri": "https://localhost:8080/"
        },
        "id": "uz7GZH5_lu35",
        "outputId": "3d015036-a55e-4021-9ab5-c950a42c0582"
      },
      "execution_count": null,
      "outputs": [
        {
          "output_type": "execute_result",
          "data": {
            "text/plain": [
              "[24, 12, 8, 6]"
            ]
          },
          "metadata": {},
          "execution_count": 12
        }
      ]
    },
    {
      "cell_type": "code",
      "source": [
        "def sum_pairs(nums):\n",
        "    total_sum = 0\n",
        "    prefix_sum = 0\n",
        "    for num in nums:\n",
        "        total_sum += prefix_sum + num\n",
        "        prefix_sum += num\n",
        "    return total_sum\n",
        "\n",
        "sum_pairs([1,2,3])"
      ],
      "metadata": {
        "colab": {
          "base_uri": "https://localhost:8080/"
        },
        "id": "N-n5hWLklCv2",
        "outputId": "e4848201-8d62-4105-d7b9-88e96a81b3bf"
      },
      "execution_count": null,
      "outputs": [
        {
          "output_type": "execute_result",
          "data": {
            "text/plain": [
              "10"
            ]
          },
          "metadata": {},
          "execution_count": 10
        }
      ]
    },
    {
      "cell_type": "markdown",
      "source": [
        "# **151. Reverse Words in a String**"
      ],
      "metadata": {
        "id": "0GhlR1NCWIBx"
      }
    },
    {
      "cell_type": "code",
      "source": [
        "class Solution(object):\n",
        "    def reverseWords(self, s):\n",
        "      temp1 = []\n",
        "      a = []\n",
        "      for i in range(len(s)):\n",
        "        if s[i] != \" \":\n",
        "          a.append(s[i])\n",
        "        elif s[i] == \" \":\n",
        "          temp1.append(\"\".join(a))\n",
        "          a = []\n",
        "      temp1.append(\"\".join(a))\n",
        "      temp1.reverse()\n",
        "      temp1 = \" \".join(temp1)\n",
        "      temp1 = temp1.split()\n",
        "\n",
        "      temp1 = \" \".join(temp1)\n",
        "      return temp1\n",
        "\n",
        "s = \"  Bob    Loves    Alice  \"\n",
        "solution = Solution()\n",
        "solution.reverseWords(s)\n"
      ],
      "metadata": {
        "colab": {
          "base_uri": "https://localhost:8080/",
          "height": 36
        },
        "id": "jDVM6fxiWHzu",
        "outputId": "03721c70-1194-4707-a6c0-804d9bd9b3d2"
      },
      "execution_count": null,
      "outputs": [
        {
          "output_type": "execute_result",
          "data": {
            "text/plain": [
              "'Alice Loves Bob'"
            ],
            "application/vnd.google.colaboratory.intrinsic+json": {
              "type": "string"
            }
          },
          "metadata": {},
          "execution_count": 48
        }
      ]
    },
    {
      "cell_type": "code",
      "source": [],
      "metadata": {
        "id": "G6XJxNfXeGff"
      },
      "execution_count": null,
      "outputs": []
    },
    {
      "cell_type": "markdown",
      "source": [
        "# **345. Reverse Vowels of a String**"
      ],
      "metadata": {
        "id": "9wxtIEW6dnqb"
      }
    },
    {
      "cell_type": "code",
      "source": [
        "class Solution(object):\n",
        "    def reverseVowels(self, s):\n",
        "      s = list(s)\n",
        "      vowels_got = []\n",
        "      positions = []\n",
        "      vowels = ['a', 'e', 'i', 'o', 'u', 'A', 'E', 'I', 'O', 'U']\n",
        "      for i in range(len(s)):\n",
        "        if s[i] in vowels:\n",
        "          vowels_got.append(s[i])\n",
        "          positions.append(i)\n",
        "      positions.reverse()\n",
        "      j = 0\n",
        "      for position in positions:\n",
        "        s[position] = vowels_got[j]\n",
        "        j+=1\n",
        "      return \"\".join(s)\n",
        "\n",
        "\n",
        "s = \"IceCreAm\"\n",
        "solution = Solution()\n",
        "solution.reverseVowels(s)\n",
        "\n"
      ],
      "metadata": {
        "colab": {
          "base_uri": "https://localhost:8080/",
          "height": 36
        },
        "id": "QwZVWM8jdnAB",
        "outputId": "88dd1885-3ca4-48eb-dd7c-4d3b5600dda7"
      },
      "execution_count": null,
      "outputs": [
        {
          "output_type": "execute_result",
          "data": {
            "text/plain": [
              "'AceCreIm'"
            ],
            "application/vnd.google.colaboratory.intrinsic+json": {
              "type": "string"
            }
          },
          "metadata": {},
          "execution_count": 19
        }
      ]
    },
    {
      "cell_type": "markdown",
      "source": [
        "# **605. Can Place Flowers**"
      ],
      "metadata": {
        "id": "_V4rzT0GFV_9"
      }
    },
    {
      "cell_type": "code",
      "source": [
        "class Solution(object):\n",
        "    def canPlaceFlowers(self, flowerbed, n):\n",
        "      temp = 0\n",
        "      for space in range(len(flowerbed)):\n",
        "        if flowerbed[space] == 0:\n",
        "          if space == 0:\n",
        "            if len(flowerbed)>1 and flowerbed[space + 1] == 0:\n",
        "              flowerbed[space] = 1\n",
        "              if temp<n:\n",
        "                temp += 1\n",
        "              else:\n",
        "                break\n",
        "            elif len(flowerbed)==1:\n",
        "              flowerbed[space] = 1\n",
        "              if temp<n:\n",
        "                temp += 1\n",
        "              else:\n",
        "                break\n",
        "          elif space == len(flowerbed) - 1:\n",
        "            if flowerbed[space - 1] == 0:\n",
        "              flowerbed[space] = 1\n",
        "              if temp<n:\n",
        "                temp += 1\n",
        "              else:\n",
        "                break\n",
        "\n",
        "          elif flowerbed[space - 1] == 0 and flowerbed[space + 1] == 0:\n",
        "              flowerbed[space] = 1\n",
        "              if temp<n:\n",
        "                temp += 1\n",
        "              else:\n",
        "                break\n",
        "      if temp >= n:\n",
        "        return True\n",
        "      else:\n",
        "        return False\n",
        "\n",
        "flowerbed = [1,0,0,0,1]\n",
        "n = 1\n",
        "solution = Solution()\n",
        "solution.canPlaceFlowers(flowerbed, n)\n",
        "\n"
      ],
      "metadata": {
        "colab": {
          "base_uri": "https://localhost:8080/"
        },
        "id": "eIeXAGsbFVms",
        "outputId": "3bf43576-7d8c-46e7-921b-04df9d3a9f35"
      },
      "execution_count": null,
      "outputs": [
        {
          "output_type": "execute_result",
          "data": {
            "text/plain": [
              "True"
            ]
          },
          "metadata": {},
          "execution_count": 13
        }
      ]
    },
    {
      "cell_type": "code",
      "source": [],
      "metadata": {
        "id": "axDdjry3FVaN"
      },
      "execution_count": null,
      "outputs": []
    },
    {
      "cell_type": "markdown",
      "source": [
        "# **#3133. Minimum Array End**"
      ],
      "metadata": {
        "id": "WTNBjxLAF3PC"
      }
    },
    {
      "cell_type": "code",
      "execution_count": null,
      "metadata": {
        "colab": {
          "base_uri": "https://localhost:8080/"
        },
        "id": "Q5keTskhsP39",
        "outputId": "eacb3230-f5e2-4fbf-df1a-2eabc7de6a12"
      },
      "outputs": [
        {
          "output_type": "stream",
          "name": "stdout",
          "text": [
            "12\n"
          ]
        }
      ],
      "source": [
        "\n",
        "#Starting but wrong\n",
        "\n",
        "import numpy as np\n",
        "a = [] #Empty Array\n",
        "n =3\n",
        "x = 4   # Example value for x\n",
        "k = 1   # Shift 1 by 1 position to the left\n",
        "\n",
        "a.append(x)\n",
        "i = 0\n",
        "while len(a) < n:\n",
        "  result = x | (1 << k)\n",
        "  if result>a[i]:\n",
        "    a.append(result)\n",
        "    k+=1\n",
        "    i+=1\n",
        "  else:\n",
        "    k+=1\n",
        "\n",
        "print(a[-1])\n",
        "\n"
      ]
    },
    {
      "cell_type": "code",
      "source": [
        "#Right but not optimized\n",
        "\n",
        "class Solution(object):\n",
        "    def minEnd(self, n, x):  # Define the method with parameters\n",
        "        a = []  # Initialize an empty array\n",
        "        k = 1   # Start with shift of 1\n",
        "\n",
        "        # Start the array with the first element as `x`\n",
        "        a.append(x)\n",
        "\n",
        "        # Loop until we have `n` elements in the array\n",
        "        while len(a) < n:\n",
        "            # Start with the smallest candidate greater than the last element in `a`\n",
        "            result = a[-1] + 1\n",
        "\n",
        "            # Find the next number that maintains the AND condition\n",
        "            while (result & x) != x:\n",
        "                result += 1\n",
        "\n",
        "            # Add the valid result to the array\n",
        "            a.append(result)\n",
        "\n",
        "        return a[-1]  # Return the last element in the array\n",
        "\n",
        "# Example usage\n",
        "n = 3\n",
        "x = 4\n",
        "solution = Solution()\n",
        "print(solution.minEnd(n, x))  # Expected output is 6\n"
      ],
      "metadata": {
        "colab": {
          "base_uri": "https://localhost:8080/"
        },
        "id": "j6dYLGiz7aIO",
        "outputId": "1534f57e-09d0-419f-cc0e-a336b27d5216"
      },
      "execution_count": null,
      "outputs": [
        {
          "output_type": "stream",
          "name": "stdout",
          "text": [
            "6\n"
          ]
        }
      ]
    },
    {
      "cell_type": "code",
      "source": [
        "\n",
        "#Rigt and optimized\n",
        "class Solution:\n",
        "    def minEnd(self, n, x):  # Define the method without type hints\n",
        "        # Adjust `n` since we're only interested in `n - 1` increments beyond `x`\n",
        "        n -= 1\n",
        "        result = x  # Start with x as the base value\n",
        "\n",
        "        # Iterate over each bit position, setting only necessary bits\n",
        "        bit_position = 0\n",
        "        while n > 0:\n",
        "            # If `x` has the current bit unset, use it for `result` as needed\n",
        "            if (x & (1 << bit_position)) == 0:\n",
        "                # If the lowest bit of `n` is 1, set this bit in `result`\n",
        "                result |= (n & 1) << bit_position\n",
        "                # Right shift `n` to examine the next bit\n",
        "                n >>= 1\n",
        "            bit_position += 1  # Move to the next bit position\n",
        "\n",
        "        return result\n",
        "\n",
        "# Example usage\n",
        "n = 6715154\n",
        "x = 7193485\n",
        "solution = Solution()\n",
        "print(solution.minEnd(n, x))  # This should compute the result efficiently\n"
      ],
      "metadata": {
        "colab": {
          "base_uri": "https://localhost:8080/"
        },
        "id": "N3Iphc9O9MFn",
        "outputId": "089c1fa0-cf97-4309-c5a8-43ed195c15a7"
      },
      "execution_count": null,
      "outputs": [
        {
          "output_type": "stream",
          "name": "stdout",
          "text": [
            "55012476815\n"
          ]
        }
      ]
    },
    {
      "cell_type": "markdown",
      "source": [
        "# **1768. Merge Strings Alternately**"
      ],
      "metadata": {
        "id": "hoqMpano6sTO"
      }
    },
    {
      "cell_type": "code",
      "source": [
        "\n",
        "# Custom zip_longest function to handle unequal lengths\n",
        "def zip_longest(s1, s2, fillvalue=''):\n",
        "    max_len = max(len(s1), len(s2))\n",
        "    return [(s1[i] if i < len(s1) else fillvalue, s2[i] if i < len(s2) else fillvalue) for i in range(max_len)]\n",
        "\n",
        "\n",
        "class Solution(object):\n",
        "    def mergeAlternately(self, word1, word2):\n",
        "      return ''.join((i or '') + (j or '') for i, j in zip_longest(word1, word2))\n",
        "\n",
        "\n",
        "word1 = \"abcqqwr\"\n",
        "word2 = \"pqrs\"\n",
        "solution = Solution()\n",
        "print(solution.mergeAlternately(word1, word2))\n",
        "\n"
      ],
      "metadata": {
        "id": "7eK-WKcuCu--",
        "colab": {
          "base_uri": "https://localhost:8080/"
        },
        "outputId": "80326240-253c-4a35-b7c7-c4bad3ba7156"
      },
      "execution_count": null,
      "outputs": [
        {
          "output_type": "stream",
          "name": "stdout",
          "text": [
            "apbqcrqsqwr\n"
          ]
        }
      ]
    },
    {
      "cell_type": "code",
      "source": [
        "def zip_longest(s1, s2, fillvalue=''):\n",
        "    max_len = max(len(s1), len(s2))  # Find the length of the longest sequence\n",
        "    result = []  # Initialize an empty list to store the pairs\n",
        "\n",
        "    for i in range(max_len):\n",
        "        # Check if `i` is within bounds for s1, otherwise use fillvalue\n",
        "        elem1 = s1[i] if i < len(s1) else fillvalue\n",
        "        # Check if `i` is within bounds for s2, otherwise use fillvalue\n",
        "        elem2 = s2[i] if i < len(s2) else fillvalue\n",
        "\n",
        "        # Add the pair (elem1, elem2) to the result list\n",
        "        result.append((elem1, elem2))\n",
        "\n",
        "    return result  # Return the list of pairs\n"
      ],
      "metadata": {
        "id": "KuXL49Ud-5sB"
      },
      "execution_count": null,
      "outputs": []
    },
    {
      "cell_type": "markdown",
      "source": [
        "# **1071. Greatest Common Divisor of Strings**"
      ],
      "metadata": {
        "id": "SiqKX6fz_xwp"
      }
    },
    {
      "cell_type": "code",
      "source": [
        "#Lets Calculate the GCD first for numbers\n",
        "\n",
        "class Solution(object):\n",
        "    def gcdOfNumbers(self, a, b):\n",
        "      prev_b = 0\n",
        "\n",
        "      while b != 0:\n",
        "        x = a%b\n",
        "        a = b\n",
        "        prev_b = b\n",
        "        b = x\n",
        "\n",
        "\n",
        "      print(prev_b)\n",
        "\n",
        "a = 48\n",
        "b = 18\n",
        "gcd = Solution()\n",
        "gcd.gcdOfNumbers(a,b)"
      ],
      "metadata": {
        "colab": {
          "base_uri": "https://localhost:8080/"
        },
        "id": "uPg3tdmIfJS3",
        "outputId": "e5e1be43-68ac-48c9-d4a7-2427f0a73d82"
      },
      "execution_count": null,
      "outputs": [
        {
          "output_type": "stream",
          "name": "stdout",
          "text": [
            "6\n"
          ]
        }
      ]
    },
    {
      "cell_type": "code",
      "source": [
        "class Solution:\n",
        "\n",
        "    def find_longest_common_pattern(self, a, b):\n",
        "        min_length = min(len(a), len(b))\n",
        "        max_len    = max(len(a), len(b))\n",
        "        matching = \"\"\n",
        "        for k in range(min_length):\n",
        "          for i in range(max_len):\n",
        "            if(a[i] == b[k]):\n",
        "              if a[i] not in matching:\n",
        "                matching += a[i]\n",
        "                k = k + 1 if k + 1 < min_length else 0\n",
        "              else:\n",
        "                k = 0\n",
        "\n",
        "        return matching\n",
        "\n",
        "# Example usage\n",
        "s1 = \"ABBABCABAB\"\n",
        "s2 = \"ABC\"\n",
        "\n",
        "solution = Solution()\n",
        "print(solution.find_longest_common_pattern(s1, s2))\n",
        "\n"
      ],
      "metadata": {
        "id": "1dx1csEHEMy_",
        "colab": {
          "base_uri": "https://localhost:8080/"
        },
        "outputId": "8281bcba-f73b-4a82-a104-dd129e2e3557"
      },
      "execution_count": null,
      "outputs": [
        {
          "output_type": "stream",
          "name": "stdout",
          "text": [
            "ABC\n"
          ]
        }
      ]
    },
    {
      "cell_type": "code",
      "source": [
        "#Couldn't understand the question so wrong approach\n",
        "class Solution:\n",
        "    def find_longest_common_pattern(self, a, b):\n",
        "        min_length = min(len(a), len(b))\n",
        "        max_len = max(len(a), len(b))\n",
        "        matching = \"\"\n",
        "\n",
        "        for k in range(len(a)):\n",
        "            current_match = \"\"\n",
        "            p = 0  # Always start from the beginning of `b` for each new starting position in `a`\n",
        "\n",
        "            for i in range(k, max_len):\n",
        "                # Make sure we stay within bounds for both `a` and `b`\n",
        "                if p < min_length and a[i] == b[p]:  # Compare character at `a[i]` and `b[p]`\n",
        "                    current_match += a[i]\n",
        "                    p += 1  # Move to the next character in `b`\n",
        "                else:\n",
        "                    break  # Break if there's no match\n",
        "\n",
        "            # Update `matching` with the longest pattern found so far\n",
        "            if len(current_match) > len(matching):\n",
        "                matching = current_match\n",
        "\n",
        "        return matching\n",
        "\n",
        "# Example usage\n",
        "s1 = \"ABABABAB\"\n",
        "s2 = \"AB\"\n",
        "\n",
        "solution = Solution()\n",
        "print(solution.find_longest_common_pattern(s1, s2))  # Expected output: \"BAB\"\n"
      ],
      "metadata": {
        "id": "YX2QFTPoG-c_",
        "colab": {
          "base_uri": "https://localhost:8080/"
        },
        "outputId": "f6583df8-1e0c-4474-cb68-1cf66800a946"
      },
      "execution_count": null,
      "outputs": [
        {
          "output_type": "stream",
          "name": "stdout",
          "text": [
            "BAB\n"
          ]
        }
      ]
    },
    {
      "cell_type": "code",
      "source": [
        "#Correct optimized one\n",
        "\n",
        "class Solution:\n",
        "    def gcdOfStrings(self, a, b):\n",
        "        min_length = min(len(a), len(b))\n",
        "        max_len = max(len(a), len(b))\n",
        "        matching = \"\"\n",
        "\n",
        "        # Only attempt to find matching patterns starting from index 0\n",
        "        for k in range(1, len(a) + 1):  # Loop over possible lengths of the common pattern\n",
        "            if len(a) % k == 0 and len(b) % k == 0:  # Check if `k` divides both `a` and `b` lengths\n",
        "                current_match = a[:k]  # Potential common pattern substring\n",
        "\n",
        "                # Check if this `current_match` can construct both `a` and `b`\n",
        "                # Calculate how many times `current_match` needs to be repeated to match `a` and `b`\n",
        "                repeat_a = len(a) // k\n",
        "                repeat_b = len(b) // k\n",
        "\n",
        "                # Check if `current_match` can construct both `a` and `b`\n",
        "                if current_match * repeat_a == a and current_match * repeat_b == b:\n",
        "                    matching = current_match  # Update matching with the longest pattern\n",
        "\n",
        "        return matching\n",
        "\n",
        "# Example usage\n",
        "s1 = \"ABAABAABA\"\n",
        "s2 = \"ABA\"\n",
        "\n",
        "solution = Solution()\n",
        "print(solution.gcdOfStrings(s1, s2))  # Expected output: \"TAUXX\"\n"
      ],
      "metadata": {
        "colab": {
          "base_uri": "https://localhost:8080/"
        },
        "id": "9HfLepjz0B6o",
        "outputId": "b8534814-7fb2-4078-d8d0-0fd39375bec2"
      },
      "execution_count": null,
      "outputs": [
        {
          "output_type": "stream",
          "name": "stdout",
          "text": [
            "ABA\n"
          ]
        }
      ]
    },
    {
      "cell_type": "markdown",
      "source": [
        "# **1431. Kids With the Greatest Number of Candies**"
      ],
      "metadata": {
        "id": "aOAABjoStSVI"
      }
    },
    {
      "cell_type": "code",
      "source": [
        "class Solution(object):\n",
        "    def kidsWithCandies(self, candies, extraCandies):\n",
        "      output = []\n",
        "      for kids in candies:\n",
        "        if kids + extraCandies >= max(candies):\n",
        "          print(True)\n",
        "          output.append(True)\n",
        "        else:\n",
        "          print(False)\n",
        "          output.append(False)\n",
        "      return output\n",
        "\n",
        "candies = [2,3,5,1,3]\n",
        "extraCandies = 3\n",
        "solution = Solution()\n",
        "solution.kidsWithCandies(candies, extraCandies)"
      ],
      "metadata": {
        "colab": {
          "base_uri": "https://localhost:8080/"
        },
        "id": "crsXMUnPtR61",
        "outputId": "889e556f-9b08-4ea6-cd85-27be518da246"
      },
      "execution_count": null,
      "outputs": [
        {
          "output_type": "stream",
          "name": "stdout",
          "text": [
            "True\n",
            "True\n",
            "True\n",
            "False\n",
            "True\n"
          ]
        },
        {
          "output_type": "execute_result",
          "data": {
            "text/plain": [
              "[True, True, True, False, True]"
            ]
          },
          "metadata": {},
          "execution_count": 3
        }
      ]
    }
  ]
}